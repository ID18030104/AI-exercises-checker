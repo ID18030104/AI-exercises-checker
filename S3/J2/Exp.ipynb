{
 "cells": [
  {
   "cell_type": "markdown",
   "id": "5ba2ff4d",
   "metadata": {},
   "source": [
    "Exercice 1"
   ]
  },
  {
   "cell_type": "code",
   "execution_count": 1,
   "id": "8eda1b1a",
   "metadata": {},
   "outputs": [
    {
     "name": "stdout",
     "output_type": "stream",
     "text": [
      "Matrice d'origine :\n",
      " [[4 2 1]\n",
      " [3 5 7]\n",
      " [1 1 1]]\n",
      "\n",
      "Déterminant : -2.0\n",
      "\n",
      "Matrice inverse :\n",
      " [[ 1.   0.5 -4.5]\n",
      " [-2.  -1.5 12.5]\n",
      " [ 1.   1.  -7. ]]\n"
     ]
    }
   ],
   "source": [
    "import numpy as np\n",
    "\n",
    "matrix = np.array([[4, 2, 1],\n",
    "                   [3, 5, 7],\n",
    "                   [1, 1, 1]])\n",
    "\n",
    "print(\"Matrice d'origine :\\n\", matrix)\n",
    "\n",
    "\n",
    "det = np.linalg.det(matrix)\n",
    "print(\"\\nDéterminant :\", round(det, 2))\n",
    "\n",
    "\n",
    "if det != 0:\n",
    "    \n",
    "    inverse = np.linalg.inv(matrix)\n",
    "    print(\"\\nMatrice inverse :\\n\", np.round(inverse, 2))\n",
    "else:\n",
    "    print(\"\\nCette matrice n'est pas inversible (déterminant nul).\")\n"
   ]
  },
  {
   "cell_type": "markdown",
   "id": "1be803fe",
   "metadata": {},
   "source": [
    "Exercice 2"
   ]
  },
  {
   "cell_type": "code",
   "execution_count": 2,
   "id": "ffff4584",
   "metadata": {},
   "outputs": [
    {
     "name": "stdout",
     "output_type": "stream",
     "text": [
      "🎲 Tableau aléatoire (50 valeurs entre 0 et 100) :\n",
      "[ 8.43 98.04 29.74 56.38 65.47 80.67 33.63 66.67 83.58 64.26 76.05 80.23\n",
      " 40.95 12.45 96.78 59.58 86.39 83.6  15.57 62.51 31.88 42.08 90.24 65.09\n",
      " 55.85 24.23 25.21 73.42 99.33 57.25 49.82 85.1  29.99 12.06 39.94 65.32\n",
      "  7.57 70.98 77.93 80.08 52.99 62.58 86.02  7.75 57.88 73.61 28.4  60.5\n",
      " 57.97 98.85]\n",
      "\n",
      "📊 Analyse statistique :\n",
      "✔️ Moyenne : 57.42\n",
      "✔️ Médiane : 61.51\n",
      "✔️ Écart-type : 26.37\n"
     ]
    }
   ],
   "source": [
    "import numpy as np\n",
    "\n",
    "data = np.random.uniform(low=0, high=100, size=50)\n",
    "\n",
    "print(\"🎲 Tableau aléatoire (50 valeurs entre 0 et 100) :\")\n",
    "print(np.round(data, 2))  \n",
    "\n",
    "mean = np.mean(data)\n",
    "median = np.median(data)\n",
    "std_dev = np.std(data)\n",
    "\n",
    "print(\"\\n📊 Analyse statistique :\")\n",
    "print(f\"✔️ Moyenne : {mean:.2f}\")\n",
    "print(f\"✔️ Médiane : {median:.2f}\")\n",
    "print(f\"✔️ Écart-type : {std_dev:.2f}\")\n"
   ]
  },
  {
   "cell_type": "markdown",
   "id": "4c6f5f04",
   "metadata": {},
   "source": [
    "Exercice 3"
   ]
  },
  {
   "cell_type": "code",
   "execution_count": 3,
   "id": "bbc6c5d8",
   "metadata": {},
   "outputs": [
    {
     "name": "stdout",
     "output_type": "stream",
     "text": [
      "📆 Dates brutes (NumPy datetime64) :\n",
      "['2023-01-01' '2023-01-02' '2023-01-03' '2023-01-04' '2023-01-05'\n",
      " '2023-01-06' '2023-01-07' '2023-01-08' '2023-01-09' '2023-01-10'\n",
      " '2023-01-11' '2023-01-12' '2023-01-13' '2023-01-14' '2023-01-15'\n",
      " '2023-01-16' '2023-01-17' '2023-01-18' '2023-01-19' '2023-01-20'\n",
      " '2023-01-21' '2023-01-22' '2023-01-23' '2023-01-24' '2023-01-25'\n",
      " '2023-01-26' '2023-01-27' '2023-01-28' '2023-01-29' '2023-01-30'\n",
      " '2023-01-31']\n",
      "\n",
      "📅 Dates formatées (YYYY/MM/DD) :\n",
      "['2023/01/01' '2023/01/02' '2023/01/03' '2023/01/04' '2023/01/05'\n",
      " '2023/01/06' '2023/01/07' '2023/01/08' '2023/01/09' '2023/01/10'\n",
      " '2023/01/11' '2023/01/12' '2023/01/13' '2023/01/14' '2023/01/15'\n",
      " '2023/01/16' '2023/01/17' '2023/01/18' '2023/01/19' '2023/01/20'\n",
      " '2023/01/21' '2023/01/22' '2023/01/23' '2023/01/24' '2023/01/25'\n",
      " '2023/01/26' '2023/01/27' '2023/01/28' '2023/01/29' '2023/01/30'\n",
      " '2023/01/31']\n"
     ]
    }
   ],
   "source": [
    "import numpy as np\n",
    "\n",
    "\n",
    "dates = np.arange('2023-01-01', '2023-02-01', dtype='datetime64[D]')\n",
    "\n",
    "print(\"📆 Dates brutes (NumPy datetime64) :\")\n",
    "print(dates)\n",
    "\n",
    "\n",
    "formatted_dates = np.array([str(date).replace('-', '/') for date in dates])\n",
    "\n",
    "print(\"\\n📅 Dates formatées (YYYY/MM/DD) :\")\n",
    "print(formatted_dates)\n"
   ]
  },
  {
   "cell_type": "markdown",
   "id": "a4645665",
   "metadata": {},
   "source": [
    "Exercice 4"
   ]
  },
  {
   "cell_type": "code",
   "execution_count": 4,
   "id": "3df21cac",
   "metadata": {},
   "outputs": [
    {
     "name": "stdout",
     "output_type": "stream",
     "text": [
      "📊 DataFrame aléatoire :\n",
      "       A      B      C      D\n",
      "0  43.25  88.05  71.33  32.42\n",
      "1  80.46  51.15  86.52  54.04\n",
      "2  76.40  39.85  50.16  15.36\n",
      "3  23.42  92.90  33.94  55.92\n",
      "4  92.54  49.42  35.52  54.85\n",
      "5  70.00  18.18  15.26  91.47\n",
      "\n",
      "🔎 Valeurs > 50 (les autres sont NaN) :\n",
      "       A      B      C      D\n",
      "0    NaN  88.05  71.33    NaN\n",
      "1  80.46  51.15  86.52  54.04\n",
      "2  76.40    NaN  50.16    NaN\n",
      "3    NaN  92.90    NaN  55.92\n",
      "4  92.54    NaN    NaN  54.85\n",
      "5  70.00    NaN    NaN  91.47\n",
      "\n",
      "📈 Agrégations :\n",
      "✔️ Somme totale : 1322.42\n",
      "\n",
      "✔️ Moyenne par colonne :\n",
      "A    64.35\n",
      "B    56.59\n",
      "C    48.79\n",
      "D    50.68\n",
      "dtype: float64\n",
      "\n",
      "✔️ Moyenne par ligne :\n",
      "0    58.77\n",
      "1    68.04\n",
      "2    45.44\n",
      "3    51.54\n",
      "4    58.08\n",
      "5    48.73\n",
      "dtype: float64\n"
     ]
    }
   ],
   "source": [
    "import numpy as np\n",
    "import pandas as pd\n",
    "\n",
    "data = np.random.uniform(0, 100, size=(6, 4))\n",
    "df = pd.DataFrame(data, columns=[\"A\", \"B\", \"C\", \"D\"])\n",
    "\n",
    "print(\"📊 DataFrame aléatoire :\")\n",
    "print(df.round(2))  \n",
    "\n",
    "\n",
    "condition = df > 50\n",
    "filtered_df = df[condition]\n",
    "\n",
    "print(\"\\n🔎 Valeurs > 50 (les autres sont NaN) :\")\n",
    "print(filtered_df.round(2))\n",
    "\n",
    "\n",
    "total_sum = df.sum().sum()\n",
    "mean_per_column = df.mean()\n",
    "mean_per_row = df.mean(axis=1)\n",
    "\n",
    "print(\"\\n📈 Agrégations :\")\n",
    "print(f\"✔️ Somme totale : {total_sum:.2f}\")\n",
    "print(\"\\n✔️ Moyenne par colonne :\")\n",
    "print(mean_per_column.round(2))\n",
    "print(\"\\n✔️ Moyenne par ligne :\")\n",
    "print(mean_per_row.round(2))\n"
   ]
  },
  {
   "cell_type": "markdown",
   "id": "cfe1d877",
   "metadata": {},
   "source": [
    "Exercice 5"
   ]
  },
  {
   "cell_type": "code",
   "execution_count": 5,
   "id": "772f665f",
   "metadata": {},
   "outputs": [
    {
     "name": "stdout",
     "output_type": "stream",
     "text": [
      "🖼️ Matrice image (grayscale) :\n",
      "[[  0  50 100 150 200]\n",
      " [ 25  75 125 175 225]\n",
      " [ 50 100 150 200 250]\n",
      " [ 75 125 175 225 255]\n",
      " [100 150 200 250 255]]\n"
     ]
    },
    {
     "data": {
      "image/png": "[encoded data removed]",
      "text/plain": [
       "<Figure size 640x480 with 2 Axes>"
      ]
     },
     "metadata": {},
     "output_type": "display_data"
    }
   ],
   "source": [
    "import numpy as np\n",
    "import matplotlib.pyplot as plt\n",
    "\n",
    "\n",
    "image = np.array([\n",
    "    [  0,  50, 100, 150, 200],\n",
    "    [ 25,  75, 125, 175, 225],\n",
    "    [ 50, 100, 150, 200, 250],\n",
    "    [ 75, 125, 175, 225, 255],\n",
    "    [100, 150, 200, 250, 255]\n",
    "], dtype=np.uint8)  \n",
    "\n",
    "print(\"🖼️ Matrice image (grayscale) :\")\n",
    "print(image)\n",
    "\n",
    "\n",
    "plt.imshow(image, cmap='gray')\n",
    "plt.title(\"5x5 Grayscale Image\")\n",
    "plt.colorbar()\n",
    "plt.axis('off')\n",
    "plt.show()\n"
   ]
  },
  {
   "cell_type": "markdown",
   "id": "225c0cb7",
   "metadata": {},
   "source": [
    "Exercice 6"
   ]
  },
  {
   "cell_type": "code",
   "execution_count": 6,
   "id": "a82736eb",
   "metadata": {},
   "outputs": [
    {
     "name": "stdout",
     "output_type": "stream",
     "text": [
      "📊 Analyse descriptive :\n",
      "✔️ Moyenne avant formation : 51.77 (± 8.50)\n",
      "✔️ Moyenne après formation : 57.33 (± 9.27)\n",
      "\n",
      "📈 Gain moyen de productivité : 5.56\n",
      "✅ Il est probable que la formation ait eu un effet positif.\n"
     ]
    }
   ],
   "source": [
    "import numpy as np\n",
    "\n",
    "\n",
    "productivity_before = np.random.normal(loc=50, scale=10, size=30)\n",
    "\n",
    "productivity_after = productivity_before + np.random.normal(loc=5, scale=3, size=30)\n",
    "\n",
    "mean_before = np.mean(productivity_before)\n",
    "mean_after = np.mean(productivity_after)\n",
    "std_before = np.std(productivity_before)\n",
    "std_after = np.std(productivity_after)\n",
    "\n",
    "print(\"📊 Analyse descriptive :\")\n",
    "print(f\"✔️ Moyenne avant formation : {mean_before:.2f} (± {std_before:.2f})\")\n",
    "print(f\"✔️ Moyenne après formation : {mean_after:.2f} (± {std_after:.2f})\")\n",
    "\n",
    "improvement = mean_after - mean_before\n",
    "print(f\"\\n📈 Gain moyen de productivité : {improvement:.2f}\")\n",
    "\n",
    "\n",
    "if improvement > 2 * std_before / np.sqrt(30):  \n",
    "    print(\"✅ Il est probable que la formation ait eu un effet positif.\")\n",
    "else:\n",
    "    print(\"⚠️ Aucune preuve claire d’un effet significatif de la formation.\")\n"
   ]
  },
  {
   "cell_type": "markdown",
   "id": "a01aefc8",
   "metadata": {},
   "source": [
    "Exercice 7"
   ]
  },
  {
   "cell_type": "code",
   "execution_count": 7,
   "id": "ba53dfb9",
   "metadata": {},
   "outputs": [
    {
     "name": "stdout",
     "output_type": "stream",
     "text": [
      "🧮 Tableau 1 : [67 82 30 12 95  5 28 45]\n",
      "🧮 Tableau 2 : [48 66 18 97 38 78  4 87]\n",
      "\n",
      "🔍 Comparaison (array1 > array2) :\n",
      "[ True  True  True False  True False  True False]\n"
     ]
    }
   ],
   "source": [
    "import numpy as np\n",
    "\n",
    "\n",
    "array1 = np.random.randint(0, 100, size=8)\n",
    "array2 = np.random.randint(0, 100, size=8)\n",
    "\n",
    "print(\"🧮 Tableau 1 :\", array1)\n",
    "print(\"🧮 Tableau 2 :\", array2)\n",
    "\n",
    "\n",
    "comparison = array1 > array2\n",
    "\n",
    "print(\"\\n🔍 Comparaison (array1 > array2) :\")\n",
    "print(comparison)\n"
   ]
  },
  {
   "cell_type": "markdown",
   "id": "a83b9707",
   "metadata": {},
   "source": [
    "Exercice 8"
   ]
  },
  {
   "cell_type": "code",
   "execution_count": 8,
   "id": "9ae5af42",
   "metadata": {},
   "outputs": [
    {
     "name": "stdout",
     "output_type": "stream",
     "text": [
      "📆 Données sur l’année 2023 (extrait) :\n",
      "                 Temp\n",
      "Date                 \n",
      "2023-01-01  11.497001\n",
      "2023-01-02  30.037896\n",
      "2023-01-03   0.029702\n",
      "2023-01-04   2.567551\n",
      "2023-01-05   0.994115\n",
      "\n",
      "🗓️ Janvier → Mars :\n",
      "                 Temp\n",
      "Date                 \n",
      "2023-01-01  11.497001\n",
      "2023-01-02  30.037896\n",
      "2023-01-03   0.029702\n",
      "2023-01-04   2.567551\n",
      "2023-01-05   0.994115\n",
      "\n",
      "🗓️ Avril → Juin :\n",
      "                 Temp\n",
      "Date                 \n",
      "2023-04-01  28.020854\n",
      "2023-04-02  21.561785\n",
      "2023-04-03  33.213357\n",
      "2023-04-04   6.120697\n",
      "2023-04-05  25.898278\n",
      "\n",
      "🗓️ Juillet → Septembre :\n",
      "                 Temp\n",
      "Date                 \n",
      "2023-07-01  28.973154\n",
      "2023-07-02  22.129206\n",
      "2023-07-03  26.757186\n",
      "2023-07-04  31.076667\n",
      "2023-07-05  13.095402\n",
      "\n",
      "🗓️ Octobre → Décembre :\n",
      "                 Temp\n",
      "Date                 \n",
      "2023-10-01  30.052832\n",
      "2023-10-02  16.304782\n",
      "2023-10-03  16.901533\n",
      "2023-10-04   9.662909\n",
      "2023-10-05  27.000516\n"
     ]
    }
   ],
   "source": [
    "import numpy as np\n",
    "import pandas as pd\n",
    "\n",
    "\n",
    "dates_2023 = np.arange('2023-01-01', '2024-01-01', dtype='datetime64[D]')\n",
    "\n",
    "\n",
    "values = np.random.uniform(low=-5, high=35, size=len(dates_2023))\n",
    "\n",
    "\n",
    "df = pd.DataFrame({'Date': dates_2023, 'Temp': values})\n",
    "df.set_index('Date', inplace=True)\n",
    "\n",
    "print(\"📆 Données sur l’année 2023 (extrait) :\")\n",
    "print(df.head())\n",
    "\n",
    "\n",
    "print(\"\\n🗓️ Janvier → Mars :\")\n",
    "print(df.loc['2023-01-01':'2023-03-31'].head())\n",
    "\n",
    "print(\"\\n🗓️ Avril → Juin :\")\n",
    "print(df.loc['2023-04-01':'2023-06-30'].head())\n",
    "\n",
    "print(\"\\n🗓️ Juillet → Septembre :\")\n",
    "print(df.loc['2023-07-01':'2023-09-30'].head())\n",
    "\n",
    "print(\"\\n🗓️ Octobre → Décembre :\")\n",
    "print(df.loc['2023-10-01':'2023-12-31'].head())\n"
   ]
  },
  {
   "cell_type": "markdown",
   "id": "fe2c0be2",
   "metadata": {},
   "source": [
    "Exercice 9"
   ]
  },
  {
   "cell_type": "code",
   "execution_count": 9,
   "id": "8e762035",
   "metadata": {},
   "outputs": [
    {
     "name": "stdout",
     "output_type": "stream",
     "text": [
      "📦 NumPy array d’origine :\n",
      "[[1 2 3]\n",
      " [4 5 6]\n",
      " [7 8 9]]\n",
      "\n",
      "📄 Converti en DataFrame :\n",
      "   Colonne A  Colonne B  Colonne C\n",
      "0          1          2          3\n",
      "1          4          5          6\n",
      "2          7          8          9\n",
      "\n",
      "🔄 Reconverti en NumPy array :\n",
      "[[1 2 3]\n",
      " [4 5 6]\n",
      " [7 8 9]]\n"
     ]
    }
   ],
   "source": [
    "import numpy as np\n",
    "import pandas as pd\n",
    "\n",
    "\n",
    "array = np.array([[1, 2, 3],\n",
    "                  [4, 5, 6],\n",
    "                  [7, 8, 9]])\n",
    "\n",
    "print(\"📦 NumPy array d’origine :\")\n",
    "print(array)\n",
    "\n",
    "\n",
    "df = pd.DataFrame(array, columns=[\"Colonne A\", \"Colonne B\", \"Colonne C\"])\n",
    "print(\"\\n📄 Converti en DataFrame :\")\n",
    "print(df)\n",
    "\n",
    "\n",
    "array_back = df.to_numpy()\n",
    "print(\"\\n🔄 Reconverti en NumPy array :\")\n",
    "print(array_back)\n"
   ]
  },
  {
   "cell_type": "markdown",
   "id": "54ce3a87",
   "metadata": {},
   "source": [
    "Exercice 10"
   ]
  },
  {
   "cell_type": "code",
   "execution_count": 10,
   "id": "eb842236",
   "metadata": {},
   "outputs": [
    {
     "name": "stderr",
     "output_type": "stream",
     "text": [
      "C:\\Users\\isaac\\AppData\\Local\\Temp\\ipykernel_26964\\3933920051.py:19: UserWarning: Glyph 127919 (\\N{DIRECT HIT}) missing from font(s) DejaVu Sans.\n",
      "  plt.tight_layout()\n",
      "C:\\Users\\isaac\\AppData\\Local\\Packages\\PythonSoftwareFoundation.Python.3.11_qbz5n2kfra8p0\\LocalCache\\local-packages\\Python311\\site-packages\\IPython\\core\\pylabtools.py:170: UserWarning: Glyph 127919 (\\N{DIRECT HIT}) missing from font(s) DejaVu Sans.\n",
      "  fig.canvas.print_figure(bytes_io, **kw)\n"
     ]
    },
    {
     "data": {
      "image/png": "[encoded data removed]",
      "text/plain": [
       "<Figure size 1000x500 with 1 Axes>"
      ]
     },
     "metadata": {},
     "output_type": "display_data"
    }
   ],
   "source": [
    "import numpy as np\n",
    "import matplotlib.pyplot as plt\n",
    "\n",
    "\n",
    "data = np.random.uniform(10, 100, size=20)\n",
    "\n",
    "days = np.arange(1, 21)\n",
    "\n",
    "\n",
    "plt.figure(figsize=(10, 5)) \n",
    "plt.plot(days, data, marker='o', linestyle='-', color='teal', label='Valeurs aléatoires')\n",
    "\n",
    "\n",
    "plt.title(\"🎯 Visualisation simple avec Matplotlib\")\n",
    "plt.xlabel(\"Jour\")\n",
    "plt.ylabel(\"Valeur\")\n",
    "plt.grid(True)\n",
    "plt.legend()\n",
    "plt.tight_layout()\n",
    "\n",
    "\n",
    "plt.show()\n"
   ]
  },
  {
   "cell_type": "code",
   "execution_count": null,
   "id": "1e605a4b",
   "metadata": {},
   "outputs": [],
   "source": [
    "!git add .\n",
    "!git commit -m \"Exercice NumPy et Pandas\"\n",
    "!git push origin main"
   ]
  }
 ],
 "metadata": {
  "kernelspec": {
   "display_name": "Python 3",
   "language": "python",
   "name": "python3"
  },
  "language_info": {
   "codemirror_mode": {
    "name": "ipython",
    "version": 3
   },
   "file_extension": ".py",
   "mimetype": "text/x-python",
   "name": "python",
   "nbconvert_exporter": "python",
   "pygments_lexer": "ipython3",
   "version": "3.11.9"
  }
 },
 "nbformat": 4,
 "nbformat_minor": 5
}
