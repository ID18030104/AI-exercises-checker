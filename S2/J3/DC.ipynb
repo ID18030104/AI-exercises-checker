{
 "cells": [
  {
   "cell_type": "code",
   "execution_count": 2,
   "id": "8026479f",
   "metadata": {},
   "outputs": [
    {
     "name": "stdout",
     "output_type": "stream",
     "text": [
      "✅ Moyenne et médiane des salaires par niveau d'expérience :\n",
      "  experience_level          mean   median\n",
      "0            Entry  36111.111111  30000.0\n",
      "1        Executive  76076.923077  46000.0\n",
      "2              Mid  51786.885246  51000.0\n",
      "3           Senior  75088.033012  68000.0\n",
      "\n",
      "✅ Exemple de données normalisées et PCA :\n",
      "   salary  salary_normalized       pca_1     pca_2\n",
      "0  149000           0.601010 -931.620836  0.427553\n",
      "1  120000           0.454545 -929.620836  0.281083\n",
      "2   68000           0.191919 -928.620837  0.018454\n",
      "3  120000           0.454545 -927.620836  0.281077\n",
      "4  149000           0.601010 -926.620836  0.427539\n"
     ]
    }
   ],
   "source": [
    "import pandas as pd\n",
    "from sklearn.preprocessing import MinMaxScaler\n",
    "from sklearn.decomposition import PCA\n",
    "\n",
    "# 1. Charger le dataset\n",
    "df = pd.read_csv(r\"C:\\Users\\isaac\\Documents\\Pst&b\\Bootcamp\\S2\\J3\\Data Science Job Salary dataset\\Data Science Job Salary dataset\\datascience_salaries.csv\")\n",
    "\n",
    "# 2. Normaliser la colonne 'salary' avec Min-Max Scaling\n",
    "scaler = MinMaxScaler()\n",
    "df['salary_normalized'] = scaler.fit_transform(df[['salary']])\n",
    "\n",
    "# 3. Réduction de dimension avec PCA (on garde 2 composantes principales)\n",
    "# On sélectionne uniquement les colonnes numériques\n",
    "numeric_df = df.select_dtypes(include=['int64', 'float64'])\n",
    "pca = PCA(n_components=2)\n",
    "pca_result = pca.fit_transform(numeric_df.drop(columns=['salary']))  # on exclut la colonne d'origine non normalisée\n",
    "df['pca_1'] = pca_result[:, 0]\n",
    "df['pca_2'] = pca_result[:, 1]\n",
    "\n",
    "# 4. Agrégation par niveau d'expérience (moyenne et médiane du salaire)\n",
    "agg = df.groupby('experience_level')['salary'].agg(['mean', 'median']).reset_index()\n",
    "\n",
    "# 5. Affichage des résultats\n",
    "print(\"✅ Moyenne et médiane des salaires par niveau d'expérience :\")\n",
    "print(agg)\n",
    "\n",
    "# Optionnel : aperçu des nouvelles colonnes\n",
    "print(\"\\n✅ Exemple de données normalisées et PCA :\")\n",
    "print(df[['salary', 'salary_normalized', 'pca_1', 'pca_2']].head())\n"
   ]
  },
  {
   "cell_type": "code",
   "execution_count": null,
   "id": "ede3354a",
   "metadata": {},
   "outputs": [],
   "source": [
    "!git add .\n",
    "!git commit -m \"Add sample data files and initial scripts\"\n",
    "!git push origin main"
   ]
  }
 ],
 "metadata": {
  "kernelspec": {
   "display_name": "Python 3",
   "language": "python",
   "name": "python3"
  },
  "language_info": {
   "codemirror_mode": {
    "name": "ipython",
    "version": 3
   },
   "file_extension": ".py",
   "mimetype": "text/x-python",
   "name": "python",
   "nbconvert_exporter": "python",
   "pygments_lexer": "ipython3",
   "version": "3.11.9"
  }
 },
 "nbformat": 4,
 "nbformat_minor": 5
}
