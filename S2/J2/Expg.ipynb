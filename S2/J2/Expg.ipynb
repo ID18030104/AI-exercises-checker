{
 "cells": [
  {
   "cell_type": "code",
   "execution_count": 1,
   "id": "62d16a9a",
   "metadata": {},
   "outputs": [
    {
     "name": "stdout",
     "output_type": "stream",
     "text": [
      "Collecting faker\n",
      "  Downloading faker-37.4.0-py3-none-any.whl.metadata (15 kB)\n",
      "Requirement already satisfied: tzdata in c:\\users\\isaac\\appdata\\local\\packages\\pythonsoftwarefoundation.python.3.11_qbz5n2kfra8p0\\localcache\\local-packages\\python311\\site-packages (from faker) (2025.2)\n",
      "Downloading faker-37.4.0-py3-none-any.whl (1.9 MB)\n",
      "   ---------------------------------------- 0.0/1.9 MB ? eta -:--:--\n",
      "   ---------------------------------------- 1.9/1.9 MB 21.5 MB/s eta 0:00:00\n",
      "Installing collected packages: faker\n",
      "Successfully installed faker-37.4.0\n"
     ]
    }
   ],
   "source": [
    "!pip install faker\n"
   ]
  },
  {
   "cell_type": "code",
   "execution_count": 2,
   "id": "bfbeaddb",
   "metadata": {},
   "outputs": [
    {
     "data": {
      "text/html": [
       "<div>\n",
       "<style scoped>\n",
       "    .dataframe tbody tr th:only-of-type {\n",
       "        vertical-align: middle;\n",
       "    }\n",
       "\n",
       "    .dataframe tbody tr th {\n",
       "        vertical-align: top;\n",
       "    }\n",
       "\n",
       "    .dataframe thead th {\n",
       "        text-align: right;\n",
       "    }\n",
       "</style>\n",
       "<table border=\"1\" class=\"dataframe\">\n",
       "  <thead>\n",
       "    <tr style=\"text-align: right;\">\n",
       "      <th></th>\n",
       "      <th>Product ID</th>\n",
       "      <th>Name</th>\n",
       "      <th>Description</th>\n",
       "      <th>Price (€)</th>\n",
       "    </tr>\n",
       "  </thead>\n",
       "  <tbody>\n",
       "    <tr>\n",
       "      <th>0</th>\n",
       "      <td>1</td>\n",
       "      <td>Purpose</td>\n",
       "      <td>Agent every development say quality.</td>\n",
       "      <td>461.82</td>\n",
       "    </tr>\n",
       "    <tr>\n",
       "      <th>1</th>\n",
       "      <td>2</td>\n",
       "      <td>Wait</td>\n",
       "      <td>Beautiful instead ahead despite measure ago cu...</td>\n",
       "      <td>48.30</td>\n",
       "    </tr>\n",
       "    <tr>\n",
       "      <th>2</th>\n",
       "      <td>3</td>\n",
       "      <td>Perform</td>\n",
       "      <td>Speak according south recently future choice w...</td>\n",
       "      <td>69.67</td>\n",
       "    </tr>\n",
       "    <tr>\n",
       "      <th>3</th>\n",
       "      <td>4</td>\n",
       "      <td>Great</td>\n",
       "      <td>Behavior benefit suggest page southern.</td>\n",
       "      <td>401.45</td>\n",
       "    </tr>\n",
       "    <tr>\n",
       "      <th>4</th>\n",
       "      <td>5</td>\n",
       "      <td>Show</td>\n",
       "      <td>Movie win her need stop peace technology offic...</td>\n",
       "      <td>333.72</td>\n",
       "    </tr>\n",
       "  </tbody>\n",
       "</table>\n",
       "</div>"
      ],
      "text/plain": [
       "   Product ID     Name                                        Description  \\\n",
       "0           1  Purpose               Agent every development say quality.   \n",
       "1           2     Wait  Beautiful instead ahead despite measure ago cu...   \n",
       "2           3  Perform  Speak according south recently future choice w...   \n",
       "3           4    Great            Behavior benefit suggest page southern.   \n",
       "4           5     Show  Movie win her need stop peace technology offic...   \n",
       "\n",
       "   Price (€)  \n",
       "0     461.82  \n",
       "1      48.30  \n",
       "2      69.67  \n",
       "3     401.45  \n",
       "4     333.72  "
      ]
     },
     "execution_count": 2,
     "metadata": {},
     "output_type": "execute_result"
    }
   ],
   "source": [
    "from faker import Faker\n",
    "import pandas as pd\n",
    "import random\n",
    "\n",
    "fake = Faker()\n",
    "Faker.seed(42)  # Pour reproduire les résultats\n",
    "\n",
    "# Générer les 500 produits\n",
    "products = []\n",
    "for i in range(1, 501):\n",
    "    product = {\n",
    "        \"Product ID\": i,\n",
    "        \"Name\": fake.unique.word().capitalize(),\n",
    "        \"Description\": fake.sentence(nb_words=8),\n",
    "        \"Price (€)\": round(random.uniform(5.0, 500.0), 2)\n",
    "    }\n",
    "    products.append(product)\n",
    "\n",
    "# Créer un DataFrame\n",
    "df_products = pd.DataFrame(products)\n",
    "\n",
    "# Afficher les 5 premiers produits\n",
    "df_products.head()\n"
   ]
  }
 ],
 "metadata": {
  "kernelspec": {
   "display_name": "Python 3",
   "language": "python",
   "name": "python3"
  },
  "language_info": {
   "codemirror_mode": {
    "name": "ipython",
    "version": 3
   },
   "file_extension": ".py",
   "mimetype": "text/x-python",
   "name": "python",
   "nbconvert_exporter": "python",
   "pygments_lexer": "ipython3",
   "version": "3.11.9"
  }
 },
 "nbformat": 4,
 "nbformat_minor": 5
}
